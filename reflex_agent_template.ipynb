{
 "cells": [
  {
   "cell_type": "code",
   "execution_count": 45,
   "id": "a8bc8abd-b59d-49bc-8aaf-6f70ea5d3cbb",
   "metadata": {},
   "outputs": [],
   "source": [
    "class Environment(object):\n",
    "    def __init__(self,...):\n",
    "        ...\n",
    "        \n",
    "    def print(self):\n",
    "        ...\n",
    "    \n",
    "    def get_environment(self,...):\n",
    "        ...\n",
    "    \n",
    "    def set_environment(self,...):\n",
    "        ...\n",
    "        \n",
    "class ReflexAgent(object):\n",
    "    def __init__(self,...):\n",
    "        ...\n",
    "        \n",
    "    def print(self):\n",
    "        ...\n",
    "        \n",
    "    def precept_and_act(self,environment):      \n",
    "        ...        \n",
    "        "
   ]
  }
 ],
 "metadata": {
  "kernelspec": {
   "display_name": "Python 3 (ipykernel)",
   "language": "python",
   "name": "python3"
  },
  "language_info": {
   "codemirror_mode": {
    "name": "ipython",
    "version": 3
   },
   "file_extension": ".py",
   "mimetype": "text/x-python",
   "name": "python",
   "nbconvert_exporter": "python",
   "pygments_lexer": "ipython3",
   "version": "3.8.10"
  }
 },
 "nbformat": 4,
 "nbformat_minor": 5
}
