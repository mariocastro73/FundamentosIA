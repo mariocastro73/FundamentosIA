{
 "cells": [
  {
   "cell_type": "markdown",
   "id": "dc7af21a-f3ff-412a-8475-b5012a73c444",
   "metadata": {
    "tags": []
   },
   "source": [
    "# Uninformed Search Agent\n",
    "- Start with a frontier that contains the initial state (**node**, actually).\n",
    "- Start with an empty explored **set**.\n",
    "- Repeat:\n",
    "    - If the frontier **is empty**, then no solution.\n",
    "    - **Remove a node** from the frontier.\n",
    "    - If node contains **goal state**, return the solution.\n",
    "    - Add the node to the **explored set**.\n",
    "    - **Expand node**, add resulting nodes to the frontier if they aren't already in the frontier or the explored set.\n",
    "    "
   ]
  },
  {
   "cell_type": "code",
   "execution_count": 5,
   "id": "b953c1f7-197d-4974-a976-cf30b1258015",
   "metadata": {},
   "outputs": [],
   "source": [
    "class Node:\n",
    "    def __init__(self,state,parent=None,action=None,cost=0):\n",
    "        self.state = state\n",
    "        self.parent = parent\n",
    "        self.action = action\n",
    "        self.cost = cost\n",
    "    def __str__(self):\n",
    "        return f\"State: {self.state}   Action: {self.action}\\n\""
   ]
  },
  {
   "cell_type": "code",
   "execution_count": 6,
   "id": "3a1a6582-1d1e-41be-bd7b-f509b182872c",
   "metadata": {},
   "outputs": [
    {
     "data": {
      "text/plain": [
       "'\\nclass Environment:\\n    def __init__(self,...):\\n        self.start = \\n        self.goal = \\n'"
      ]
     },
     "execution_count": 6,
     "metadata": {},
     "output_type": "execute_result"
    }
   ],
   "source": [
    "\"\"\"\n",
    "class Environment:\n",
    "    def __init__(self,...):\n",
    "        self.start = \n",
    "        self.goal = \n",
    "\"\"\""
   ]
  },
  {
   "cell_type": "code",
   "execution_count": null,
   "id": "8dee76f9-028a-478f-b84f-b8635359b93d",
   "metadata": {},
   "outputs": [],
   "source": [
    "class SearchAgent:\n",
    "    def __init__(self,environment):\n",
    "        self.frontier = [Node(state=environment.start)]\n",
    "        self.explored = set()\n",
    "        self.goal_state = environment.goal\n",
    "    \n",
    "    def is_frontier_empty(self):\n",
    "        return len(self.frontier) == 0\n",
    "    \n",
    "    def actions(self,node):\n",
    "        pass\n",
    "    \n",
    "    def result(self,node):\n",
    "        pass\n",
    "        \n",
    "    def remove_node(self):\n",
    "        pass\n",
    "    \n",
    "    def is_goal(self,node):\n",
    "        if node.state == self.goal_state:\n",
    "            self.solution = []\n",
    "            while node.parent is not None:\n",
    "                self.solution.append(node)\n",
    "                print(f\"{node.state}({node.action})\")\n",
    "                node = node.parent\n",
    "            raise Exception(\"Solution found!!!!\")\n",
    "    \n",
    "    def add_to_frontier(self,node):\n",
    "        self.frontier.append(node)\n",
    "        \n",
    "    def add_to_explored(self,node):\n",
    "        self.explored.add(node)\n",
    "        \n",
    "    def expand_node(self,node):\n",
    "        for child in self.result(node):\n",
    "            if not self.is_state_in_frontier(child) and not self.is_state_in_explored(child):\n",
    "                self.add_to_frontier(child)\n",
    "        \n",
    "    def solve(self):\n",
    "        while not self.is_frontier_empty():\n",
    "            try:\n",
    "                node = self.remove_node()\n",
    "            except:\n",
    "                print(\"Solution not found!!\")\n",
    "                \n",
    "            try:\n",
    "                self.is_goal(node)\n",
    "            except:\n",
    "                return self.solution\n",
    "            self.add_to_explored(node)\n",
    "            self.expand_node(node)"
   ]
  }
 ],
 "metadata": {
  "kernelspec": {
   "display_name": "Python 3 (ipykernel)",
   "language": "python",
   "name": "python3"
  },
  "language_info": {
   "codemirror_mode": {
    "name": "ipython",
    "version": 3
   },
   "file_extension": ".py",
   "mimetype": "text/x-python",
   "name": "python",
   "nbconvert_exporter": "python",
   "pygments_lexer": "ipython3",
   "version": "3.8.10"
  }
 },
 "nbformat": 4,
 "nbformat_minor": 5
}
