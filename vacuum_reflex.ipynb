{
 "cells": [
  {
   "cell_type": "markdown",
   "id": "8b3f8ae2-9137-4c1d-a183-e09df1829fe8",
   "metadata": {},
   "source": [
    "## Build a “Reflex” model of vacuum cleaner: follow the actions described below\n",
    "### Two sensors:\n",
    "- Location (extend to n rooms in a row)\n",
    "- Status: “Dirty”/”Tidy”\n",
    "\n",
    "### Three actions:\n",
    "- Suck\n",
    "- Move to the left\n",
    "- Move to the right\n",
    "\n",
    "![](reflex_agent.png)\n",
    "\n",
    "Podéis ver un [vídeo de cómo construir este código](https://youtu.be/kn6gjhymKLI)."
   ]
  },
  {
   "cell_type": "code",
   "execution_count": 1,
   "id": "0501c76b-89df-40a9-abe7-f83450c9c3c8",
   "metadata": {},
   "outputs": [],
   "source": [
    "class Environment(object):\n",
    "    def __init__(self,initial): # [True,True]\n",
    "        self.status = initial\n",
    "        self.legend = {False:\"tidy\",True:\"dirty\"}\n",
    "        \n",
    "    def __str__(self):\n",
    "        output = \"State of the house\\n--------------------------------\\n\"\n",
    "        output = output + str([f\"{self.legend[room]}\" for room in self.status])\n",
    "        return output\n",
    "    \n",
    "    def get_environment(self,room):\n",
    "        return(self.status[room])\n",
    "    \n",
    "    def set_environment(self,room):\n",
    "        self.status[room] = False"
   ]
  },
  {
   "cell_type": "code",
   "execution_count": 25,
   "id": "01b3b8f4-6322-4c1d-b9c5-ac4afb0c9ea3",
   "metadata": {},
   "outputs": [],
   "source": [
    "class ReflexAgent(object):\n",
    "    def __init__(self,room):\n",
    "        self.room = room\n",
    "        self.step = +1\n",
    "        \n",
    "    def __str__(self):\n",
    "        return f\"I'm in room {self.room}\"\n",
    "    \n",
    "    def precept_and_act(self,env):\n",
    "        # If dirty -> clean\n",
    "        n = len(env.status)\n",
    "        if env.get_environment(self.room):\n",
    "            env.set_environment(self.room)\n",
    "        else:\n",
    "            if self.room + self.step == n:\n",
    "                self.step = -1\n",
    "            elif self.room + self.step == -1:\n",
    "                self.step = +1\n",
    "            self.room = self.room + self.step\n",
    "        print(self)\n",
    "        print(env)\n",
    "        \n",
    "            "
   ]
  },
  {
   "cell_type": "code",
   "execution_count": 30,
   "id": "ddd43e56-0523-411f-824c-e985a8bfdb85",
   "metadata": {},
   "outputs": [
    {
     "name": "stdout",
     "output_type": "stream",
     "text": [
      "State of the house\n",
      "--------------------------------\n",
      "['dirty', 'dirty', 'dirty', 'dirty']\n",
      "I'm in room 0\n"
     ]
    }
   ],
   "source": [
    "house = Environment([True, True, True, True])\n",
    "print(house)\n",
    "\n",
    "vacuum = ReflexAgent(0)\n",
    "print(vacuum)"
   ]
  },
  {
   "cell_type": "code",
   "execution_count": 31,
   "id": "b021755a-a0e4-4a9c-b6ab-76f2b33a989e",
   "metadata": {},
   "outputs": [
    {
     "name": "stdout",
     "output_type": "stream",
     "text": [
      "I'm in room 0\n",
      "State of the house\n",
      "--------------------------------\n",
      "['tidy', 'dirty', 'dirty', 'dirty']\n",
      "I'm in room 1\n",
      "State of the house\n",
      "--------------------------------\n",
      "['tidy', 'dirty', 'dirty', 'dirty']\n",
      "I'm in room 1\n",
      "State of the house\n",
      "--------------------------------\n",
      "['tidy', 'tidy', 'dirty', 'dirty']\n",
      "I'm in room 2\n",
      "State of the house\n",
      "--------------------------------\n",
      "['tidy', 'tidy', 'dirty', 'dirty']\n",
      "I'm in room 2\n",
      "State of the house\n",
      "--------------------------------\n",
      "['tidy', 'tidy', 'tidy', 'dirty']\n",
      "I'm in room 3\n",
      "State of the house\n",
      "--------------------------------\n",
      "['tidy', 'tidy', 'tidy', 'dirty']\n",
      "I'm in room 3\n",
      "State of the house\n",
      "--------------------------------\n",
      "['tidy', 'tidy', 'tidy', 'tidy']\n",
      "I'm in room 2\n",
      "State of the house\n",
      "--------------------------------\n",
      "['tidy', 'tidy', 'tidy', 'tidy']\n",
      "I'm in room 1\n",
      "State of the house\n",
      "--------------------------------\n",
      "['tidy', 'tidy', 'tidy', 'tidy']\n",
      "I'm in room 0\n",
      "State of the house\n",
      "--------------------------------\n",
      "['tidy', 'tidy', 'tidy', 'tidy']\n",
      "I'm in room 1\n",
      "State of the house\n",
      "--------------------------------\n",
      "['tidy', 'tidy', 'tidy', 'tidy']\n",
      "I'm in room 2\n",
      "State of the house\n",
      "--------------------------------\n",
      "['tidy', 'tidy', 'tidy', 'tidy']\n",
      "I'm in room 3\n",
      "State of the house\n",
      "--------------------------------\n",
      "['tidy', 'tidy', 'tidy', 'tidy']\n",
      "I'm in room 2\n",
      "State of the house\n",
      "--------------------------------\n",
      "['tidy', 'tidy', 'tidy', 'tidy']\n",
      "I'm in room 1\n",
      "State of the house\n",
      "--------------------------------\n",
      "['tidy', 'tidy', 'tidy', 'tidy']\n",
      "I'm in room 0\n",
      "State of the house\n",
      "--------------------------------\n",
      "['tidy', 'tidy', 'tidy', 'tidy']\n",
      "I'm in room 1\n",
      "State of the house\n",
      "--------------------------------\n",
      "['tidy', 'tidy', 'tidy', 'tidy']\n",
      "I'm in room 2\n",
      "State of the house\n",
      "--------------------------------\n",
      "['tidy', 'tidy', 'tidy', 'tidy']\n",
      "I'm in room 3\n",
      "State of the house\n",
      "--------------------------------\n",
      "['tidy', 'tidy', 'tidy', 'tidy']\n",
      "I'm in room 2\n",
      "State of the house\n",
      "--------------------------------\n",
      "['tidy', 'tidy', 'tidy', 'tidy']\n"
     ]
    }
   ],
   "source": [
    "for time in range(20):\n",
    "    vacuum.precept_and_act(house)"
   ]
  }
 ],
 "metadata": {
  "kernelspec": {
   "display_name": "Python 3 (ipykernel)",
   "language": "python",
   "name": "python3"
  },
  "language_info": {
   "codemirror_mode": {
    "name": "ipython",
    "version": 3
   },
   "file_extension": ".py",
   "mimetype": "text/x-python",
   "name": "python",
   "nbconvert_exporter": "python",
   "pygments_lexer": "ipython3",
   "version": "3.10.5"
  }
 },
 "nbformat": 4,
 "nbformat_minor": 5
}
