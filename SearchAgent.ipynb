{
 "cells": [
  {
   "cell_type": "markdown",
   "id": "06636ca3-5388-48d3-8a8c-a15aee656bcc",
   "metadata": {},
   "source": [
    "# Uninformed Search Agent\n",
    "- Start with a frontier that contains the initial state.\n",
    "- Start with an empty explored set.\n",
    "- Repeat:\n",
    "    - If the frontier **is empty**, then no solution.\n",
    "    - **Remove a node** from the frontier.\n",
    "    - If node contains **goal state**, return the solution.\n",
    "    - Add the node to the **explored set**.\n",
    "    - **Expand node**, add resulting nodes to the frontier if they aren't already in the frontier or the explored set.\n",
    "    "
   ]
  },
  {
   "cell_type": "code",
   "execution_count": 145,
   "id": "72b31959-aac8-41f0-960e-9f380c4b4c68",
   "metadata": {},
   "outputs": [],
   "source": [
    "class Node(object):\n",
    "    def __init__(self, state, parent, action):\n",
    "        self.state = state\n",
    "        self.parent = parent\n",
    "        self.action = action\n",
    "        \n",
    "    def print(self):\n",
    "        print(f\"State: {self.state} Action: {self.action}\")\n"
   ]
  },
  {
   "cell_type": "code",
   "execution_count": 109,
   "id": "8262cd7c-d7e4-475f-89f3-232cad741ae6",
   "metadata": {},
   "outputs": [],
   "source": [
    "class Environment(object):\n",
    "\n",
    "    def __init__(self, ...):\n",
    "        \"\"\" \n",
    "        Environments must contain information about the environment, but also\n",
    "        the start and goal states\n",
    "        \"\"\"\n",
    "        ...\n",
    "        \n",
    "    def print(self, ...):\n",
    "        ...\n"
   ]
  },
  {
   "cell_type": "code",
   "execution_count": null,
   "id": "68007d22-5632-4b5d-b2e8-b2263f2ac675",
   "metadata": {
    "tags": []
   },
   "outputs": [],
   "source": [
    "class SearchAgent(object):\n",
    "    def __init__(self,environment):\n",
    "        self.frontier = [Node(state=environment.start, parent=None, action=None)] # We play with nodes, not states.\n",
    "        self.goal_state = environment.goal\n",
    "        ...\n",
    "        \n",
    "    def print_frontier(self):\n",
    "        ...\n",
    "            \n",
    "    def print_explored(self):\n",
    "        ...\n",
    "        \n",
    "    def is_frontier_empty(self):\n",
    "        ...\n",
    "        \n",
    "    def remove_node(self): # Remove node means, remove from frontier but \"return\" it to play with it\n",
    "        ...\n",
    "    \n",
    "    def is_goal(self,node): # Return (build) solution if goal is reached\n",
    "        ... \n",
    "        \n",
    "    def add_to_explored(self,node):\n",
    "        ...\n",
    "        \n",
    "    def add_to_frontier(self,node):\n",
    "        ...\n",
    "        \n",
    "    def is_state_in_frontier(self,state):\n",
    "        ...\n",
    "        \n",
    "    def is_state_in_explored(self,state):\n",
    "        ...\n",
    "        \n",
    "    def expand_node(self, node):\n",
    "        \"\"\" \n",
    "        Here are the details specific for the problem\n",
    "        Expand means adding new nodes from the node just removed from the frontier\n",
    "        \"\"\"\n",
    "        ...\n",
    "        def actions(state): # Nested function that implements de transision function RESULT(s,a)\n",
    "            ...\n",
    "        # After computing potential actions, we evaluate the \"children\" nodes and add them to the \n",
    "        # frontier if not already there or in the 'explored' set.\n",
    "    \n",
    "    def solve(self):\n",
    "        while not self.is_frontier_empty():\n",
    "            ...\n",
    "            # Choose a node from the frontier\n",
    "            # If node is the goal, then we have a solution                    \n",
    "            # Mark node as explored\n",
    "            # Expand the node                \n",
    "                "
   ]
  },
  {
   "cell_type": "code",
   "execution_count": null,
   "id": "9887c4f8-b2c9-4eda-83c1-8cba98f59772",
   "metadata": {},
   "outputs": [
    {
     "name": "stdout",
     "output_type": "stream",
     "text": [
      "([[1, 1, 0, 0, 0, 0, 1], [1, 1, 0, 1, 1, 0, 1], [1, 0, 0, 1, 0, 0, 1], [1, 0, 1, 1, 0, 1, 1], [0, 0, 0, 0, 0, 1, 1], [0, 1, 1, 1, 1, 1, 1]], (5, 0), (1, 2))\n"
     ]
    }
   ],
   "source": [
    "maze = ([\n",
    "[1,1,0,0,0,0,1],# Walls. You can download tons of mazes here https://invpy.com/mazes/, but build a function to convert\n",
    "[1,1,0,1,1,0,1],\n",
    "[1,0,0,1,0,0,1],\n",
    "[1,0,1,1,0,1,1],\n",
    "[0,0,0,0,0,1,1],\n",
    "[0,1,1,1,1,1,1]],  \n",
    "(5,0), # Start state\n",
    "(1,2)) # Goal state\n",
    "\n",
    "\n",
    "maze_environment = Environment(maze)\n",
    "maze_environment.print()"
   ]
  }
 ],
 "metadata": {
  "kernelspec": {
   "display_name": "Python 3 (ipykernel)",
   "language": "python",
   "name": "python3"
  },
  "language_info": {
   "codemirror_mode": {
    "name": "ipython",
    "version": 3
   },
   "file_extension": ".py",
   "mimetype": "text/x-python",
   "name": "python",
   "nbconvert_exporter": "python",
   "pygments_lexer": "ipython3",
   "version": "3.8.10"
  }
 },
 "nbformat": 4,
 "nbformat_minor": 5
}
