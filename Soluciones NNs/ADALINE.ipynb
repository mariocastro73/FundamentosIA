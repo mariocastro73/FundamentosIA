{
 "cells": [
  {
   "cell_type": "code",
   "execution_count": 1,
   "id": "5b62167e",
   "metadata": {},
   "outputs": [],
   "source": [
    "# Import the relevant packages\n",
    "\n",
    "import numpy as np\n",
    "import pandas as pd\n",
    "import matplotlib.pyplot as plt\n",
    "import matplotlib\n",
    "from matplotlib.colors import ListedColormap # For the colored decision regions"
   ]
  },
  {
   "cell_type": "markdown",
   "id": "cdf9c8f6",
   "metadata": {},
   "source": [
    "# Código para ADALINE"
   ]
  },
  {
   "cell_type": "markdown",
   "id": "def44d21",
   "metadata": {},
   "source": [
    "Basándonos en el código del perceptrón, construimos el sistema de ADALINE. Hay que cambiar:\n",
    "* La función de entrenamiento\n",
    "* El resultado que devuelve el sistema (pasa a ser un sistema de regresión, no clasificación)"
   ]
  },
  {
   "cell_type": "code",
   "execution_count": 2,
   "id": "66daba2e",
   "metadata": {},
   "outputs": [],
   "source": [
    "# Build the perceptron as an object\n",
    "\n",
    "class adaline(object):\n",
    "    \"\"\"ADALINE regression model.\n",
    "\n",
    "    Parameters\n",
    "    ------------\n",
    "    eta : float\n",
    "        Learning rate (between 0.0 and 1.0)\n",
    "    n_epochs : int\n",
    "        Passes over the training dataset.\n",
    "\n",
    "    Attributes\n",
    "    -----------\n",
    "    w_ : 1d-array\n",
    "        Weights after fitting.\n",
    "    cost_ : list\n",
    "        Errors in every epoch.\n",
    "\n",
    "    \"\"\"\n",
    "    def __init__(self, alpha = 1.0, n_iter = 100): \n",
    "        self.alpha = alpha\n",
    "        self.n_iter = n_iter\n",
    "    \n",
    "    \n",
    "    def fit(self, X, y, weight_init = []):\n",
    "        \"\"\"Fit training data.\n",
    "\n",
    "        Parameters\n",
    "        ----------\n",
    "        X : {array-like}, shape = [n_samples, n_features]\n",
    "            Training vectors, where n_samples is the number of samples and\n",
    "            n_features is the number of features.\n",
    "        y : array-like, shape = [n_samples]\n",
    "            Target values.\n",
    "        weight_init : list\n",
    "            Passes an initialization for the weights\n",
    "            \n",
    "        Returns\n",
    "        -------\n",
    "        self : object\n",
    "\n",
    "        \"\"\"\n",
    "        # Initialize weights as zeros of size 1 + number of features, errors as empty list\n",
    "        if len( weight_init ) == 0:\n",
    "            self.w_ = np.zeros(1 + X.shape[1])  # Add the extra dimension to make room for the bias component\n",
    "        else:\n",
    "             self.w_ = np.array(weight_init)   \n",
    "        \n",
    "        self.cost_ = []                   # Empty list to store the errors during training \n",
    "        \n",
    "        for k in range(self.n_iter):\n",
    "            \n",
    "            tmp_error_ = 0.0\n",
    "            \n",
    "            for i in range(len(X)):\n",
    "                                \n",
    "                # Pass a point to ADALINE and process it\n",
    "                output = self.adaline_output(X[i,:])\n",
    "                error = (y[i] - output)\n",
    "                \n",
    "                # Update the weights according to the Delta rule\n",
    "                self.w_[1:] += self.alpha * X[i,:]*error\n",
    "                self.w_[0] += self.alpha * error\n",
    "                tmp_error_ += 0.5 * np.sum((y - self.adaline_output(X))**2)\n",
    "            \n",
    "            self.cost_.append(tmp_error_)\n",
    "            \n",
    "            # Since now it is regression, zero error will be difficult. \n",
    "            # However, we can keep this check just in case...\n",
    "            if (error.sum() == 0):\n",
    "                break\n",
    "        \n",
    "        print(f'Pesos tras entrenar {self.n_iter} épocas: {self.w_}')\n",
    "\n",
    "        return self\n",
    "\n",
    "    \n",
    "    \n",
    "    def adaline_output(self, X):\n",
    "        \n",
    "        # Calculate net output\n",
    "        return np.dot(X, self.w_[1:]) + self.w_[0]        # Linear transformation of the input\n",
    "    \n"
   ]
  },
  {
   "cell_type": "markdown",
   "id": "7159409d",
   "metadata": {},
   "source": [
    "## Conversión de datos binarios a decimales\n",
    "\n",
    "Construimos el dataset para la conversión de binario a decimal (no incluimos el caso de (0,0,0) = (0) siguiendo las indicaciones del enunciado)"
   ]
  },
  {
   "cell_type": "code",
   "execution_count": 3,
   "id": "9920a186",
   "metadata": {},
   "outputs": [
    {
     "data": {
      "text/html": [
       "<div>\n",
       "<style scoped>\n",
       "    .dataframe tbody tr th:only-of-type {\n",
       "        vertical-align: middle;\n",
       "    }\n",
       "\n",
       "    .dataframe tbody tr th {\n",
       "        vertical-align: top;\n",
       "    }\n",
       "\n",
       "    .dataframe thead th {\n",
       "        text-align: right;\n",
       "    }\n",
       "</style>\n",
       "<table border=\"1\" class=\"dataframe\">\n",
       "  <thead>\n",
       "    <tr style=\"text-align: right;\">\n",
       "      <th></th>\n",
       "      <th>b1</th>\n",
       "      <th>b2</th>\n",
       "      <th>b3</th>\n",
       "      <th>dec</th>\n",
       "    </tr>\n",
       "  </thead>\n",
       "  <tbody>\n",
       "    <tr>\n",
       "      <th>0</th>\n",
       "      <td>0</td>\n",
       "      <td>0</td>\n",
       "      <td>1</td>\n",
       "      <td>1</td>\n",
       "    </tr>\n",
       "    <tr>\n",
       "      <th>1</th>\n",
       "      <td>0</td>\n",
       "      <td>1</td>\n",
       "      <td>0</td>\n",
       "      <td>2</td>\n",
       "    </tr>\n",
       "    <tr>\n",
       "      <th>2</th>\n",
       "      <td>0</td>\n",
       "      <td>1</td>\n",
       "      <td>1</td>\n",
       "      <td>3</td>\n",
       "    </tr>\n",
       "    <tr>\n",
       "      <th>3</th>\n",
       "      <td>1</td>\n",
       "      <td>0</td>\n",
       "      <td>0</td>\n",
       "      <td>4</td>\n",
       "    </tr>\n",
       "    <tr>\n",
       "      <th>4</th>\n",
       "      <td>1</td>\n",
       "      <td>0</td>\n",
       "      <td>1</td>\n",
       "      <td>5</td>\n",
       "    </tr>\n",
       "    <tr>\n",
       "      <th>5</th>\n",
       "      <td>1</td>\n",
       "      <td>1</td>\n",
       "      <td>0</td>\n",
       "      <td>6</td>\n",
       "    </tr>\n",
       "    <tr>\n",
       "      <th>6</th>\n",
       "      <td>1</td>\n",
       "      <td>1</td>\n",
       "      <td>1</td>\n",
       "      <td>7</td>\n",
       "    </tr>\n",
       "  </tbody>\n",
       "</table>\n",
       "</div>"
      ],
      "text/plain": [
       "   b1  b2  b3  dec\n",
       "0   0   0   1    1\n",
       "1   0   1   0    2\n",
       "2   0   1   1    3\n",
       "3   1   0   0    4\n",
       "4   1   0   1    5\n",
       "5   1   1   0    6\n",
       "6   1   1   1    7"
      ]
     },
     "execution_count": 3,
     "metadata": {},
     "output_type": "execute_result"
    }
   ],
   "source": [
    "d = {'b1': [0, 0, 0, 1, 1, 1, 1], \n",
    "     'b2': [0, 1, 1, 0, 0, 1, 1],\n",
    "     'b3': [1, 0, 1, 0, 1, 0, 1],\n",
    "     'dec': [1, 2, 3, 4, 5, 6, 7]}\n",
    "df = pd.DataFrame(data=d)\n",
    "df"
   ]
  },
  {
   "cell_type": "markdown",
   "id": "2a1aef60",
   "metadata": {},
   "source": [
    "Separamos y guardamos el target (valor decimal) para reutilizar la estructura del caso del perceptrón"
   ]
  },
  {
   "cell_type": "code",
   "execution_count": 4,
   "id": "b620064e",
   "metadata": {},
   "outputs": [],
   "source": [
    "# Select the two classes\n",
    "y = df.dec.values           # values method of a pandas dataframe yields Numpy array\n",
    "\n",
    "# select two features: sepal length and petal length for visualization\n",
    "X = df.iloc[:,0:3].values"
   ]
  },
  {
   "cell_type": "code",
   "execution_count": 5,
   "id": "c54ce01e",
   "metadata": {},
   "outputs": [
    {
     "data": {
      "text/plain": [
       "array([1, 2, 3, 4, 5, 6, 7])"
      ]
     },
     "execution_count": 5,
     "metadata": {},
     "output_type": "execute_result"
    }
   ],
   "source": [
    "y"
   ]
  },
  {
   "cell_type": "markdown",
   "id": "7ded0eb6",
   "metadata": {},
   "source": [
    "Dibujamos los puntos que nos quedan"
   ]
  },
  {
   "cell_type": "markdown",
   "id": "4fbfdc6d",
   "metadata": {},
   "source": [
    "# Entrenamiento y plots de resultados"
   ]
  },
  {
   "cell_type": "code",
   "execution_count": 6,
   "id": "3cf16990",
   "metadata": {},
   "outputs": [
    {
     "name": "stdout",
     "output_type": "stream",
     "text": [
      "Pesos tras entrenar 50 épocas: [5.91673382e-05 3.99998102e+00 1.99998241e+00 9.99982485e-01]\n"
     ]
    },
    {
     "data": {
      "image/png": "[encoded data removed]",
      "text/plain": [
       "<Figure size 432x288 with 1 Axes>"
      ]
     },
     "metadata": {
      "needs_background": "light"
     },
     "output_type": "display_data"
    },
    {
     "name": "stdout",
     "output_type": "stream",
     "text": [
      "Necesitamos 30 épocas para que el método converja con una tolerancia de 0.0001\n"
     ]
    }
   ],
   "source": [
    "# First, create the object with the model\n",
    "model = adaline(alpha = 0.3, n_iter = 50)\n",
    "\n",
    "# Fit the model using the parameters given in the problem\n",
    "weight_init = [0., 0.84, 0.39, 0.78]\n",
    "model.fit(X, y) # , weight_init)\n",
    "\n",
    "# plot the error for each epoch to check for convergence\n",
    "plt.plot(range(1, len(model.cost_)+1), model.cost_)\n",
    "plt.xlabel('Epochs', fontsize = 20)\n",
    "plt.ylabel('Error function per epoch',  fontsize = 20)\n",
    "plt.show()\n",
    "\n",
    "# Find when the error is lower than a certain tolerance level\n",
    "tolerance = 0.0001   \n",
    "cutoff = np.where(np.array(model.cost_) < tolerance)[0][0]\n",
    "print(f\"Necesitamos {cutoff} épocas para que el método converja con una tolerancia de {tolerance}\")"
   ]
  }
 ],
 "metadata": {
  "kernelspec": {
   "display_name": "Python 3 (ipykernel)",
   "language": "python",
   "name": "python3"
  },
  "language_info": {
   "codemirror_mode": {
    "name": "ipython",
    "version": 3
   },
   "file_extension": ".py",
   "mimetype": "text/x-python",
   "name": "python",
   "nbconvert_exporter": "python",
   "pygments_lexer": "ipython3",
   "version": "3.10.7"
  }
 },
 "nbformat": 4,
 "nbformat_minor": 5
}
